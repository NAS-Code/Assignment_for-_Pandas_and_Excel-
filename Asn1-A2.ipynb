{
 "cells": [
  {
   "cell_type": "code",
   "execution_count": 33,
   "metadata": {},
   "outputs": [],
   "source": [
    "import pandas as pd"
   ]
  },
  {
   "cell_type": "code",
   "execution_count": 34,
   "metadata": {},
   "outputs": [],
   "source": [
    "blueprintFile = pd.read_excel('incstmt-0.xlsx', sheet_name = 'IncomeStatement', index_col = 0, comment = '#')\n",
    "blueprintFile = blueprintFile.drop(columns=['Description'], axis=1)\n",
    "\n",
    "divisionA = pd.read_excel('incstmt-diva.xlsx', sheet_name='IncomeStatement', index_col=0, comment = '#')\n",
    "divisionA = divisionA.drop(columns=['Description'], axis=1)\n",
    "\n",
    "divisionB = pd.read_excel('incstmt-divb.xlsx', sheet_name='IncomeStatement', index_col=0, comment = '#')\n",
    "divisionB = divisionB.drop(columns=['Description'], axis=1)\n",
    "\n",
    "divisions = [ divisionA, divisionB]\n"
   ]
  },
  {
   "cell_type": "code",
   "execution_count": 35,
   "metadata": {},
   "outputs": [
    {
     "data": {
      "text/plain": [
       "[      Act2018  Act2019  Proj2020\n",
       " CODE                            \n",
       " SALE     43.9     40.3      50.2\n",
       " CGS      17.5     18.0      18.2\n",
       " PROF     26.4     22.3      32.0\n",
       " SGA       2.1      1.8       2.1\n",
       " ADV       1.3      1.2       1.5\n",
       " DEP       2.6      2.5       3.2\n",
       " RENT      2.2      2.2       2.2\n",
       " OTHX      3.1      3.2       3.4\n",
       " EXP      11.3     10.9      12.4\n",
       " EBT      15.1     11.4      19.6,       Act2018  Act2019  Proj2020\n",
       " CODE                            \n",
       " SALE     33.7     35.0      36.0\n",
       " CGS      15.0     15.5      16.2\n",
       " PROF     18.7     19.5      19.8\n",
       " SGA       1.8      1.8       2.4\n",
       " ADV       1.1      1.2       1.3\n",
       " DEP       2.1      2.2       2.3\n",
       " RENT      1.0      0.5       0.0\n",
       " OTHX      2.0      2.1       2.2\n",
       " EXP       8.0      7.8       8.2\n",
       " EBT      10.7     11.7      11.6]"
      ]
     },
     "execution_count": 35,
     "metadata": {},
     "output_type": "execute_result"
    }
   ],
   "source": [
    "divisions"
   ]
  },
  {
   "cell_type": "code",
   "execution_count": 36,
   "metadata": {
    "pixiedust": {
     "displayParams": {}
    }
   },
   "outputs": [],
   "source": [
    "for sheets in divisions:\n",
    "    blueprintFile = blueprintFile.add(sheets)"
   ]
  },
  {
   "cell_type": "code",
   "execution_count": 37,
   "metadata": {},
   "outputs": [
    {
     "data": {
      "text/html": [
       "<div>\n",
       "<style scoped>\n",
       "    .dataframe tbody tr th:only-of-type {\n",
       "        vertical-align: middle;\n",
       "    }\n",
       "\n",
       "    .dataframe tbody tr th {\n",
       "        vertical-align: top;\n",
       "    }\n",
       "\n",
       "    .dataframe thead th {\n",
       "        text-align: right;\n",
       "    }\n",
       "</style>\n",
       "<table border=\"1\" class=\"dataframe\">\n",
       "  <thead>\n",
       "    <tr style=\"text-align: right;\">\n",
       "      <th></th>\n",
       "      <th>Act2018</th>\n",
       "      <th>Act2019</th>\n",
       "      <th>Proj2020</th>\n",
       "    </tr>\n",
       "    <tr>\n",
       "      <th>CODE</th>\n",
       "      <th></th>\n",
       "      <th></th>\n",
       "      <th></th>\n",
       "    </tr>\n",
       "  </thead>\n",
       "  <tbody>\n",
       "    <tr>\n",
       "      <td>SALE</td>\n",
       "      <td>77.6</td>\n",
       "      <td>75.3</td>\n",
       "      <td>86.2</td>\n",
       "    </tr>\n",
       "    <tr>\n",
       "      <td>CGS</td>\n",
       "      <td>32.5</td>\n",
       "      <td>33.5</td>\n",
       "      <td>34.4</td>\n",
       "    </tr>\n",
       "    <tr>\n",
       "      <td>PROF</td>\n",
       "      <td>45.1</td>\n",
       "      <td>41.8</td>\n",
       "      <td>51.8</td>\n",
       "    </tr>\n",
       "    <tr>\n",
       "      <td>SGA</td>\n",
       "      <td>3.9</td>\n",
       "      <td>3.6</td>\n",
       "      <td>4.5</td>\n",
       "    </tr>\n",
       "    <tr>\n",
       "      <td>ADV</td>\n",
       "      <td>2.4</td>\n",
       "      <td>2.4</td>\n",
       "      <td>2.8</td>\n",
       "    </tr>\n",
       "    <tr>\n",
       "      <td>DEP</td>\n",
       "      <td>4.7</td>\n",
       "      <td>4.7</td>\n",
       "      <td>5.5</td>\n",
       "    </tr>\n",
       "    <tr>\n",
       "      <td>RENT</td>\n",
       "      <td>3.2</td>\n",
       "      <td>2.7</td>\n",
       "      <td>2.2</td>\n",
       "    </tr>\n",
       "    <tr>\n",
       "      <td>OTHX</td>\n",
       "      <td>5.1</td>\n",
       "      <td>5.3</td>\n",
       "      <td>5.6</td>\n",
       "    </tr>\n",
       "    <tr>\n",
       "      <td>EXP</td>\n",
       "      <td>19.3</td>\n",
       "      <td>18.7</td>\n",
       "      <td>20.6</td>\n",
       "    </tr>\n",
       "    <tr>\n",
       "      <td>EBT</td>\n",
       "      <td>25.8</td>\n",
       "      <td>23.1</td>\n",
       "      <td>31.2</td>\n",
       "    </tr>\n",
       "  </tbody>\n",
       "</table>\n",
       "</div>"
      ],
      "text/plain": [
       "      Act2018  Act2019  Proj2020\n",
       "CODE                            \n",
       "SALE     77.6     75.3      86.2\n",
       "CGS      32.5     33.5      34.4\n",
       "PROF     45.1     41.8      51.8\n",
       "SGA       3.9      3.6       4.5\n",
       "ADV       2.4      2.4       2.8\n",
       "DEP       4.7      4.7       5.5\n",
       "RENT      3.2      2.7       2.2\n",
       "OTHX      5.1      5.3       5.6\n",
       "EXP      19.3     18.7      20.6\n",
       "EBT      25.8     23.1      31.2"
      ]
     },
     "execution_count": 37,
     "metadata": {},
     "output_type": "execute_result"
    }
   ],
   "source": [
    "blueprintFile"
   ]
  },
  {
   "cell_type": "code",
   "execution_count": null,
   "metadata": {},
   "outputs": [],
   "source": []
  }
 ],
 "metadata": {
  "kernelspec": {
   "display_name": "Python 3",
   "language": "python",
   "name": "python3"
  },
  "language_info": {
   "codemirror_mode": {
    "name": "ipython",
    "version": 3
   },
   "file_extension": ".py",
   "mimetype": "text/x-python",
   "name": "python",
   "nbconvert_exporter": "python",
   "pygments_lexer": "ipython3",
   "version": "3.7.4"
  }
 },
 "nbformat": 4,
 "nbformat_minor": 2
}
