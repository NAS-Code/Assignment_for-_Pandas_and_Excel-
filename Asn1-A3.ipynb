{
 "cells": [
  {
   "cell_type": "code",
   "execution_count": 36,
   "metadata": {},
   "outputs": [],
   "source": [
    "import pandas as pd"
   ]
  },
  {
   "cell_type": "code",
   "execution_count": 37,
   "metadata": {},
   "outputs": [],
   "source": [
    "blueprintFile = pd.read_excel('incstmt-0.xlsx', sheet_name = 'IncomeStatement', index_col = 0, comment = '#')\n",
    "blueprintFile = blueprintFile.drop(columns=['Description'], axis=1)\n",
    "\n",
    "divisionA = pd.read_excel('incstmt-diva.xlsx', sheet_name='IncomeStatement', index_col=0, comment = '#')\n",
    "divisionA = divisionA.drop(columns=['Description'], axis=1)\n",
    "\n",
    "divisionB = pd.read_excel('incstmt-divb.xlsx', sheet_name='IncomeStatement', index_col=0, comment = '#')\n",
    "divisionB = divisionB.drop(columns=['Description'], axis=1)\n",
    "\n",
    "divisions = [ divisionA, divisionB]"
   ]
  },
  {
   "cell_type": "code",
   "execution_count": 38,
   "metadata": {},
   "outputs": [
    {
     "name": "stdout",
     "output_type": "stream",
     "text": [
      "-8.20% 24.57% +\n",
      "3.86% 2.86% -\n"
     ]
    }
   ],
   "source": [
    "for sheets in divisions:\n",
    "    sales2018 = sheets.at[\"SALE\",\"Act2018\"]\n",
    "    sales2019 = sheets.at[\"SALE\",\"Act2019\"]\n",
    "    sales2020 = sheets.at[\"SALE\",\"Proj2020\"]\n",
    "    change1 = ((sales2019 - sales2018) / sales2018)*100\n",
    "    change2 = ((sales2020 - sales2019) / sales2019)*100\n",
    "    if change2 > change1:\n",
    "        trend = \"+\"\n",
    "    elif change2 < change1:\n",
    "        trend = \"-\"\n",
    "    else:\n",
    "        trend = \"=\"\n",
    "    print(f'{change1:.2f}''%', f'{change2:.2f}''%', trend)"
   ]
  },
  {
   "cell_type": "code",
   "execution_count": 39,
   "metadata": {},
   "outputs": [
    {
     "name": "stdout",
     "output_type": "stream",
     "text": [
      "28.29% 39.04% +\n",
      "33.43% 32.22% -\n"
     ]
    }
   ],
   "source": [
    "for sheets in divisions:\n",
    "    sales2018 = sheets.at[\"SALE\",\"Act2018\"]\n",
    "    sales2019 = sheets.at[\"SALE\",\"Act2019\"]\n",
    "    sales2020 = sheets.at[\"SALE\",\"Proj2020\"]\n",
    "    ebt2018 = sheets.at[\"EBT\",\"Act2018\"]\n",
    "    ebt2019 = sheets.at[\"EBT\",\"Act2019\"]\n",
    "    ebt2020 = sheets.at[\"EBT\",\"Proj2020\"]\n",
    "    change1 = (ebt2019 / sales2019)*100\n",
    "    change2 = (ebt2020 / sales2020)*100\n",
    "    if change2 > change1:\n",
    "        trend = \"+\"\n",
    "    elif change2 < change1:\n",
    "        trend = \"-\"\n",
    "    else:\n",
    "        trend = \"=\"\n",
    "    print(f'{change1:.2f}''%', f'{change2:.2f}''%', trend)"
   ]
  },
  {
   "cell_type": "code",
   "execution_count": null,
   "metadata": {},
   "outputs": [],
   "source": []
  }
 ],
 "metadata": {
  "kernelspec": {
   "display_name": "Python 3",
   "language": "python",
   "name": "python3"
  },
  "language_info": {
   "codemirror_mode": {
    "name": "ipython",
    "version": 3
   },
   "file_extension": ".py",
   "mimetype": "text/x-python",
   "name": "python",
   "nbconvert_exporter": "python",
   "pygments_lexer": "ipython3",
   "version": "3.7.4"
  }
 },
 "nbformat": 4,
 "nbformat_minor": 2
}
